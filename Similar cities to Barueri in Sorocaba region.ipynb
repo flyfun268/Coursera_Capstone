{
    "cells": [
        {
            "cell_type": "markdown",
            "metadata": {
                "collapsed": true
            },
            "source": "# Similar cities to Barueri in Sorocaba region\n#### Rodrigo Medeiros"
        },
        {
            "cell_type": "markdown",
            "metadata": {},
            "source": "## Introduction"
        },
        {
            "cell_type": "markdown",
            "metadata": {},
            "source": "A retired couple which lives in Barueri desire to move to Sorocaba region to be close to their family, they don't know very well the region and have concerns about the city they are going to choose. They intend to move to a city similar to Barueri in terms of social development, demographic density, availability of restaurants, parks, museums and so on.\n\nTo verify the cities in Sorocaba region that are similar to Barueri in this aspects, will be used technics of web scrapping data and machine learning to identify and propose cities with best odds to satisfy the couple."
        },
        {
            "cell_type": "markdown",
            "metadata": {},
            "source": "## Data"
        },
        {
            "cell_type": "markdown",
            "metadata": {},
            "source": "In this project will be used the Barueri page on Wikip\u00e9dia (https://pt.wikipedia.org/wiki/Barueri) to retrieve follow information:\n - Area;\n - Population;\n - Human Development Index;\n\nAlso will be used used the Metropolitan Region of Sorocaba page on Wikip\u00e9dia (https://pt.wikipedia.org/wiki/Regi%C3%A3o_Metropolitana_de_Sorocaba) to retrieve the same information for cities in this area.\n\nThe data about the venues (restaurants, parks, museums and etc.) for each city will be retrieve from Foursquare API considering a area of 7Km around the coordinates of the city."
        },
        {
            "cell_type": "code",
            "execution_count": null,
            "metadata": {},
            "outputs": [],
            "source": ""
        }
    ],
    "metadata": {
        "kernelspec": {
            "display_name": "Python 3.6",
            "language": "python",
            "name": "python3"
        },
        "language_info": {
            "codemirror_mode": {
                "name": "ipython",
                "version": 3
            },
            "file_extension": ".py",
            "mimetype": "text/x-python",
            "name": "python",
            "nbconvert_exporter": "python",
            "pygments_lexer": "ipython3",
            "version": "3.6.9"
        }
    },
    "nbformat": 4,
    "nbformat_minor": 1
}